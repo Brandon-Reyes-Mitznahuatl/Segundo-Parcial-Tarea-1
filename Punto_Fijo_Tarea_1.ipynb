{
  "nbformat": 4,
  "nbformat_minor": 0,
  "metadata": {
    "colab": {
      "name": "Punto Fijo-Tarea 1.ipynb",
      "provenance": [],
      "collapsed_sections": []
    },
    "kernelspec": {
      "name": "python3",
      "display_name": "Python 3"
    }
  },
  "cells": [
    {
      "cell_type": "markdown",
      "metadata": {
        "id": "hK-_2d3f3Ob6"
      },
      "source": [
        "Definiendo g1 \n",
        "\n",
        "\n",
        "$x = \\frac{5}{2x-1}$"
      ]
    },
    {
      "cell_type": "code",
      "metadata": {
        "id": "yyk-L8xQ3Ob8"
      },
      "source": [
        "import matplotlib.pyplot as plt"
      ],
      "execution_count": 1,
      "outputs": []
    },
    {
      "cell_type": "code",
      "metadata": {
        "id": "e0cE6o5T3OcD"
      },
      "source": [
        "def g2(x):\n",
        "    return 5/(2*x-1)"
      ],
      "execution_count": 2,
      "outputs": []
    },
    {
      "cell_type": "code",
      "metadata": {
        "id": "Ujb3HxeQ3OcJ",
        "outputId": "6171f56c-674b-40ce-b349-c6f73746f071",
        "colab": {
          "base_uri": "https://localhost:8080/"
        }
      },
      "source": [
        "x_vec=[]\n",
        "error_vec=[]\n",
        "x_vec.append(0)\n",
        "error_vec.append(float(input(\"Inserte el error: \")))\n",
        "contador = int(input(\"Ingrese el contador: \"))\n",
        "criterio_paro = float(input(\"Ingrease el criterio de paro: \"))\n",
        "\n",
        "if(criterio_paro == \"\"):\n",
        "    criterio_paro = 0.0001\n"
      ],
      "execution_count": 3,
      "outputs": [
        {
          "output_type": "stream",
          "text": [
            "Inserte el error: 1\n",
            "Ingrese el contador: 0\n",
            "Ingrease el criterio de paro: 0.0001\n"
          ],
          "name": "stdout"
        }
      ]
    },
    {
      "cell_type": "code",
      "metadata": {
        "id": "nnk4XK1y3OcO",
        "outputId": "a38a15d4-c544-4678-c53c-4ddced7cdbaa",
        "colab": {
          "base_uri": "https://localhost:8080/"
        }
      },
      "source": [
        "limi = 30\n",
        "while((contador <= limi ) and error_vec[contador] > criterio_paro):\n",
        "    x_temp = g2(x_vec[contador])\n",
        "    x_vec.append(x_temp)\n",
        "    e_temp = abs(x_vec[contador+1]-x_vec[contador])\n",
        "    error_vec.append(e_temp)\n",
        "    contador += 1\n",
        "\n",
        "if (x_vec[contador]>99999):\n",
        "    Converge=False\n",
        "    print(\"No converge\")\n",
        "else:\n",
        "    if (x_vec[contador]<99999):\n",
        "      Converge=True\n",
        "      print(\"Converge\")"
      ],
      "execution_count": 5,
      "outputs": [
        {
          "output_type": "stream",
          "text": [
            "Converge\n"
          ],
          "name": "stdout"
        }
      ]
    },
    {
      "cell_type": "code",
      "metadata": {
        "id": "PwD6cfik3OcS",
        "outputId": "8996f823-6812-4cec-ff56-d27253566914",
        "colab": {
          "base_uri": "https://localhost:8080/"
        }
      },
      "source": [
        "for xVec in x_vec:\n",
        "    print(\" \", xVec)"
      ],
      "execution_count": 6,
      "outputs": [
        {
          "output_type": "stream",
          "text": [
            "  0\n",
            "  -5.0\n",
            "  -0.45454545454545453\n",
            "  -2.619047619047619\n",
            "  -0.8015267175572519\n",
            "  -1.9208211143695015\n",
            "  -1.0327074500302846\n",
            "  -1.6311005730092867\n",
            "  -1.1731027768763618\n",
            "  -1.4942297834610216\n",
            "  -1.253616820254888\n",
            "  -1.4256250117609075\n",
            "  -1.2982797713630907\n",
            "  -1.3902174955262983\n",
            "  -1.322599122014749\n",
            "  -1.3716675103170435\n",
            "  -1.3357073231326875\n",
            "  -1.361872869654231\n",
            "  -1.3427339969051033\n",
            "  -1.356679805223534\n",
            "  -1.3464895740054725\n",
            "  -1.3539204527306963\n",
            "  -1.3484936725940282\n",
            "  -1.3524525601928081\n",
            "  -1.3495622256257906\n",
            "  -1.3516712037920957\n",
            "  -1.3501317052834063\n",
            "  -1.3512551527335972\n",
            "  -1.350435133864964\n",
            "  -1.351033578128353\n",
            "  -1.3505967852446201\n",
            "  -1.3509155640673713\n"
          ],
          "name": "stdout"
        }
      ]
    },
    {
      "cell_type": "code",
      "metadata": {
        "id": "vUZLFgwx3OcZ",
        "outputId": "add4b050-d1fe-44dd-8912-7443b50a5cc7",
        "colab": {
          "base_uri": "https://localhost:8080/"
        }
      },
      "source": [
        "for error in error_vec:\n",
        "    print(\" \", error)"
      ],
      "execution_count": 7,
      "outputs": [
        {
          "output_type": "stream",
          "text": [
            "  1.0\n",
            "  5.0\n",
            "  4.545454545454546\n",
            "  2.1645021645021645\n",
            "  1.8175209014903673\n",
            "  1.1192943968122497\n",
            "  0.8881136643392169\n",
            "  0.598393122979002\n",
            "  0.4579977961329249\n",
            "  0.32112700658465987\n",
            "  0.24061296320613357\n",
            "  0.17200819150601943\n",
            "  0.1273452403978168\n",
            "  0.09193772416320756\n",
            "  0.0676183735115492\n",
            "  0.04906838830229443\n",
            "  0.03596018718435601\n",
            "  0.02616554652154357\n",
            "  0.019138872749127733\n",
            "  0.01394580831843073\n",
            "  0.010190231218061507\n",
            "  0.007430878725223744\n",
            "  0.005426780136668086\n",
            "  0.003958887598779937\n",
            "  0.002890334567017483\n",
            "  0.0021089781663050644\n",
            "  0.0015394985086893964\n",
            "  0.0011234474501908842\n",
            "  0.0008200188686331433\n",
            "  0.000598444263388842\n",
            "  0.0004367928837327728\n",
            "  0.00031877882275122005\n"
          ],
          "name": "stdout"
        }
      ]
    },
    {
      "cell_type": "code",
      "metadata": {
        "id": "ZtqHD35a3Ocg",
        "outputId": "d8cdb73e-40d2-4a46-9eb3-a81cb5d5e775",
        "colab": {
          "base_uri": "https://localhost:8080/",
          "height": 265
        }
      },
      "source": [
        "plt.plot(x_vec)\n",
        "plt.show()"
      ],
      "execution_count": 8,
      "outputs": [
        {
          "output_type": "display_data",
          "data": {
            "image/png": "[encoded data removed]",
            "text/plain": [
              "<Figure size 432x288 with 1 Axes>"
            ]
          },
          "metadata": {
            "tags": [],
            "needs_background": "light"
          }
        }
      ]
    },
    {
      "cell_type": "code",
      "metadata": {
        "id": "g_HpzMRz3Ocn",
        "outputId": "345cdc1a-3b94-446a-cd9a-9110859f1cf0",
        "colab": {
          "base_uri": "https://localhost:8080/",
          "height": 265
        }
      },
      "source": [
        "plt.plot(error_vec)\n",
        "plt.show()"
      ],
      "execution_count": 9,
      "outputs": [
        {
          "output_type": "display_data",
          "data": {
            "image/png": "[encoded data removed]",
            "text/plain": [
              "<Figure size 432x288 with 1 Axes>"
            ]
          },
          "metadata": {
            "tags": [],
            "needs_background": "light"
          }
        }
      ]
    },
    {
      "cell_type": "code",
      "metadata": {
        "id": "dyUZEFkY3Ocu"
      },
      "source": [
        ""
      ],
      "execution_count": null,
      "outputs": []
    }
  ]
}